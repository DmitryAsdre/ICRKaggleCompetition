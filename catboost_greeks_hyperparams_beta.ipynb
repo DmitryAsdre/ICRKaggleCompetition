{
 "cells": [
  {
   "cell_type": "code",
   "execution_count": 1,
   "metadata": {},
   "outputs": [],
   "source": [
    "import os\n",
    "import pickle\n",
    "import copy\n",
    "\n",
    "import numpy as np\n",
    "import pandas as pd\n",
    "from sklearn.preprocessing import LabelEncoder\n",
    "\n",
    "import torch\n",
    "from torch.nn import CrossEntropyLoss\n",
    "\n",
    "from catboost import CatBoostClassifier\n",
    "from imblearn.over_sampling import RandomOverSampler\n",
    "from hyperopt import fmin, hp, tpe, Trials, space_eval"
   ]
  },
  {
   "cell_type": "code",
   "execution_count": 2,
   "metadata": {},
   "outputs": [],
   "source": [
    "class CFG:\n",
    "    DATA_PATH = '../data'\n",
    "    PATH_TO_SAVE = '../models/'\n",
    "    \n",
    "    exp_name = 'CatboostBaggingROSAlpha_best_params'\n",
    "    \n",
    "    hyperopt_space = {'learning_rate' : hp.uniform('learning_rate', 1e-3, 5e-2),\n",
    "                    'n_estimators' : hp.randint('n_estimators', 200, 1300),\n",
    "                    'l2_leaf_reg' : hp.choice('l2_leaf_reg', [0.1, 2, 3, 5]),\n",
    "                    'depth' : hp.randint('depth', 3, 7),\n",
    "                    'random_strength' : hp.choice('random_strength', [0.5, 1.0, 3.0, 10.0])}\n",
    "    algo = tpe.suggest\n",
    "    n_step_search = 30\n",
    "    \n",
    "    additional_params={'task_type' : 'GPU', 'devices':'0'}\n",
    "    n_bag = 100\n",
    "    random_state = 42\n",
    "    letter = 'Beta'"
   ]
  },
  {
   "cell_type": "code",
   "execution_count": 3,
   "metadata": {},
   "outputs": [],
   "source": [
    "def balanced_ce(y_true, y_pred):\n",
    "    weights = []\n",
    "    unique = np.sort(list(set(y_true)))\n",
    "    for i, t in enumerate(unique):\n",
    "        n_samples_i = np.sum(y_true == t)\n",
    "        weights.append(1 / (n_samples_i))\n",
    "    \n",
    "    \n",
    "    ce = CrossEntropyLoss()\n",
    "    y_pred = torch.Tensor(y_pred.astype(np.float32))\n",
    "    y_true = torch.Tensor(y_true.astype(np.int64)).long()\n",
    "    \n",
    "    return ce(y_pred, y_true).item()"
   ]
  },
  {
   "cell_type": "code",
   "execution_count": 9,
   "metadata": {},
   "outputs": [],
   "source": [
    "class CatboostBaggingROS:\n",
    "    def __init__(self, catboost_params, additional_params={'task_type' : 'GPU', 'devices' : '0'}, n_bag=100, random_state=42):\n",
    "        self.catboost_params = catboost_params\n",
    "        self.n_bag = n_bag\n",
    "        \n",
    "        self.clf = CatBoostClassifier(**catboost_params, random_state=random_state, verbose=0, **additional_params)\n",
    "        self.clfs = []\n",
    "        self.oob_idxs = []\n",
    "        self.losses = []\n",
    "        \n",
    "        self.ros = RandomOverSampler(random_state=random_state)\n",
    "        self.oob_preds = None\n",
    "        self.oob_n = None\n",
    "        self.n_classes = 0\n",
    "        \n",
    "    def fit(self, X_train, y_greek):\n",
    "        self.n_classes = len(set(y_greek))\n",
    "        \n",
    "        self.oob_preds = np.zeros((y_greek.shape[0], self.n_classes), dtype=np.float32)\n",
    "        self.oob_n = np.zeros(y_greek.shape[0], dtype=np.float32) + 1e-20\n",
    "        \n",
    "        for i in range(self.n_bag):\n",
    "            bagged_idxs = []\n",
    "            while len(set(y_greek.iloc[bagged_idxs])) != self.n_classes:\n",
    "                bagged_idxs = np.random.randint(0, y_greek.shape[0], y_greek.shape[0])\n",
    "            oob_idxs = set(list(range(y_greek.shape[0]))) - set(bagged_idxs)\n",
    "            oob_idxs = list(oob_idxs)\n",
    "            \n",
    "            self.oob_idxs.append(oob_idxs)\n",
    "            \n",
    "            X_bagged = X_train.iloc[bagged_idxs]\n",
    "            y_greek_bagged = y_greek.iloc[bagged_idxs]\n",
    "            \n",
    "            X_bagged, y_greek_bagged = self.ros.fit_resample(X_bagged, y_greek_bagged)\n",
    "            \n",
    "            X_oob = X_train.iloc[oob_idxs]\n",
    "            \n",
    "            clf = copy.deepcopy(self.clf)\n",
    "            clf.fit(X_bagged, y_greek_bagged)\n",
    "            self.clfs.append(clf)\n",
    "            \n",
    "            self.oob_preds[oob_idxs] += clf.predict_proba(X_oob)\n",
    "            self.oob_n[oob_idxs] += 1\n",
    "            \n",
    "            cur_loss = balanced_ce(y_greek, self.oob_preds / self.oob_n.reshape(-1, 1))    \n",
    "            self.losses.append(cur_loss)\n",
    "            \n",
    "    def predict_oob(self, X_test):\n",
    "        oob_preds = np.zeros((X_test.shape[0], self.n_classes), dtype=np.float32)\n",
    "        oob_n = np.zeros(X_test.shape[0], dtype=np.float32) + 1e-20\n",
    "        \n",
    "        for clf, oob_idx in zip(self.clfs, self.oob_idxs):\n",
    "            X_test_oob = X_test.iloc[oob_idx]\n",
    "            oob_preds[oob_idx] += clf.predict_proba(X_test_oob)\n",
    "            oob_n[oob_idx] += 1\n",
    "        \n",
    "        return oob_preds / oob_n\n",
    "    \n",
    "    def predict(self, X_test):\n",
    "        preds = np.zeros((X_test.shape[0], self.n_classes), dtype=np.float32)\n",
    "        \n",
    "        for clf in self.clfs:\n",
    "            preds += clf.predict_proba(X_test)\n",
    "        \n",
    "        return preds / len(self.clfs)"
   ]
  },
  {
   "cell_type": "code",
   "execution_count": 5,
   "metadata": {},
   "outputs": [],
   "source": [
    "np.random.seed(CFG.random_state)\n",
    "    \n",
    "train = pd.read_csv(os.path.join(CFG.DATA_PATH, 'train.csv'), index_col='Id')\n",
    "greeks = pd.read_csv(os.path.join(CFG.DATA_PATH, 'greeks.csv'), index_col='Id')\n",
    "\n",
    "train = train.join(greeks[[CFG.letter]])\n",
    "\n",
    "le = LabelEncoder()\n",
    "train[CFG.letter] = le.fit_transform(train[CFG.letter])\n",
    " \n",
    "first_category = train.EJ.unique()[0]\n",
    "train.EJ = train.EJ.eq(first_category).astype('int')\n",
    "\n",
    "X_train, y_greeks = train.drop(['Class', CFG.letter], axis=1), train[CFG.letter]\n"
   ]
  },
  {
   "cell_type": "code",
   "execution_count": 6,
   "metadata": {},
   "outputs": [],
   "source": [
    "def objective(params):   \n",
    "    clf = CatboostBaggingROS(params, n_bag=CFG.n_bag, random_state=CFG.random_state, additional_params=CFG.additional_params)\n",
    "    clf.fit(X_train, y_greeks)\n",
    "    losses = clf.losses\n",
    "    \n",
    "    return np.min(losses)"
   ]
  },
  {
   "cell_type": "code",
   "execution_count": 7,
   "metadata": {},
   "outputs": [
    {
     "name": "stdout",
     "output_type": "stream",
     "text": [
      "100%|██████████| 30/30 [1:39:28<00:00, 198.94s/trial, best loss: 0.6734421849250793]\n",
      "{'depth': 6, 'l2_leaf_reg': 2, 'learning_rate': 0.049349679735742204, 'n_estimators': 1131, 'random_strength': 10.0}\n"
     ]
    }
   ],
   "source": [
    "best_params = fmin(\n",
    "                fn=objective,\n",
    "                space=CFG.hyperopt_space,\n",
    "                algo=CFG.algo,\n",
    "                max_evals=CFG.n_step_search)    \n",
    "\n",
    "hyperparams = space_eval(CFG.hyperopt_space, best_params)\n",
    "print(hyperparams)"
   ]
  },
  {
   "cell_type": "code",
   "execution_count": null,
   "metadata": {},
   "outputs": [],
   "source": [
    "clf = CatboostBaggingROS(hyperparams, n_bag=CFG.n_bag, random_state=CFG.random_state, additional_params=CFG.additional_params)\n",
    "clf.fit(X_train, y_greeks)"
   ]
  },
  {
   "cell_type": "code",
   "execution_count": null,
   "metadata": {},
   "outputs": [],
   "source": []
  }
 ],
 "metadata": {
  "kernelspec": {
   "display_name": "icr3.8",
   "language": "python",
   "name": "python3"
  },
  "language_info": {
   "codemirror_mode": {
    "name": "ipython",
    "version": 3
   },
   "file_extension": ".py",
   "mimetype": "text/x-python",
   "name": "python",
   "nbconvert_exporter": "python",
   "pygments_lexer": "ipython3",
   "version": "3.8.16"
  },
  "orig_nbformat": 4
 },
 "nbformat": 4,
 "nbformat_minor": 2
}
