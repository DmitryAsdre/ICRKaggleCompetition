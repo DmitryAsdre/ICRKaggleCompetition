{
 "cells": [
  {
   "cell_type": "code",
   "execution_count": 1,
   "metadata": {},
   "outputs": [],
   "source": [
    "import os\n",
    "import pickle\n",
    "import copy\n",
    "\n",
    "import numpy as np\n",
    "import pandas as pd\n",
    "from sklearn.preprocessing import LabelEncoder\n",
    "\n",
    "import torch\n",
    "from torch.nn import CrossEntropyLoss\n",
    "\n",
    "from catboost import CatBoostClassifier\n",
    "from imblearn.over_sampling import RandomOverSampler\n",
    "from hyperopt import fmin, hp, tpe, Trials, space_eval"
   ]
  },
  {
   "cell_type": "code",
   "execution_count": 2,
   "metadata": {},
   "outputs": [],
   "source": [
    "class CFG:\n",
    "    DATA_PATH = '../data'\n",
    "    PATH_TO_SAVE = '../models/'\n",
    "    \n",
    "    exp_name = 'CatboostBaggingROSAlpha_best_params'\n",
    "    \n",
    "    hyperopt_space = {'learning_rate' : hp.uniform('learning_rate', 1e-3, 5e-2),\n",
    "                    'n_estimators' : hp.randint('n_estimators', 200, 1300),\n",
    "                    'l2_leaf_reg' : hp.choice('l2_leaf_reg', [0.1, 2, 3, 5]),\n",
    "                    'depth' : hp.randint('depth', 3, 7),\n",
    "                    'random_strength' : hp.choice('random_strength', [0.5, 1.0, 3.0, 10.0])}\n",
    "    algo = tpe.suggest\n",
    "    n_step_search = 30\n",
    "    \n",
    "    additional_params={'task_type' : 'GPU', 'devices':'1'}\n",
    "    n_bag = 100\n",
    "    random_state = 42\n",
    "    letter = 'Gamma'"
   ]
  },
  {
   "cell_type": "code",
   "execution_count": 3,
   "metadata": {},
   "outputs": [],
   "source": [
    "def balanced_ce(y_true, y_pred):\n",
    "    weights = []\n",
    "    unique = np.sort(list(set(y_true)))\n",
    "    for i, t in enumerate(unique):\n",
    "        n_samples_i = np.sum(y_true == t)\n",
    "        weights.append(1 / (n_samples_i))\n",
    "    \n",
    "    \n",
    "    ce = CrossEntropyLoss()\n",
    "    y_pred = torch.Tensor(y_pred.astype(np.float32))\n",
    "    y_true = torch.Tensor(y_true.astype(np.int64)).long()\n",
    "    \n",
    "    return ce(y_pred, y_true).item()"
   ]
  },
  {
   "cell_type": "code",
   "execution_count": 4,
   "metadata": {},
   "outputs": [],
   "source": [
    "class CatboostBaggingROS:\n",
    "    def __init__(self, catboost_params, additional_params={'task_type' : 'GPU', 'devices' : '0'}, n_bag=100, random_state=42):\n",
    "        self.catboost_params = catboost_params\n",
    "        self.n_bag = n_bag\n",
    "        \n",
    "        self.clf = CatBoostClassifier(**catboost_params, random_state=random_state, verbose=0, **additional_params)\n",
    "        self.clfs = []\n",
    "        self.oob_idxs = []\n",
    "        self.losses = []\n",
    "        \n",
    "        self.ros = RandomOverSampler(random_state=random_state)\n",
    "        self.oob_preds = None\n",
    "        self.oob_n = None\n",
    "        \n",
    "    def fit(self, X_train, y_greek):\n",
    "        n_classes = len(set(y_greek))\n",
    "        \n",
    "        self.oob_preds = np.zeros((y_greek.shape[0], n_classes), dtype=np.float32)\n",
    "        self.oob_n = np.zeros(y_greek.shape[0], dtype=np.float32) + 1e-20\n",
    "        \n",
    "        for i in range(self.n_bag):\n",
    "            bagged_idxs = np.random.randint(0, y_greek.shape[0], y_greek.shape[0])\n",
    "            oob_idxs = set(list(range(y_greek.shape[0]))) - set(bagged_idxs)\n",
    "            oob_idxs = list(oob_idxs)\n",
    "            \n",
    "            self.oob_idxs.append(oob_idxs)\n",
    "            \n",
    "            X_bagged = X_train.iloc[bagged_idxs]\n",
    "            y_greek_bagged = y_greek.iloc[bagged_idxs]\n",
    "            \n",
    "            X_bagged, y_greek_bagged = self.ros.fit_resample(X_bagged, y_greek_bagged)\n",
    "            \n",
    "            X_oob = X_train.iloc[oob_idxs]\n",
    "            \n",
    "            clf = copy.deepcopy(self.clf)\n",
    "            clf.fit(X_bagged, y_greek_bagged)\n",
    "            self.clfs.append(clf)\n",
    "            \n",
    "            self.oob_preds[oob_idxs] += clf.predict_proba(X_oob)\n",
    "            self.oob_n[oob_idxs] += 1\n",
    "            \n",
    "            cur_loss = balanced_ce(y_greek, self.oob_preds / self.oob_n.reshape(-1, 1))    \n",
    "            self.losses.append(cur_loss)"
   ]
  },
  {
   "cell_type": "code",
   "execution_count": 5,
   "metadata": {},
   "outputs": [],
   "source": [
    "np.random.seed(CFG.random_state)\n",
    "    \n",
    "train = pd.read_csv(os.path.join(CFG.DATA_PATH, 'train.csv'), index_col='Id')\n",
    "greeks = pd.read_csv(os.path.join(CFG.DATA_PATH, 'greeks.csv'), index_col='Id')\n",
    "\n",
    "train = train.join(greeks[[CFG.letter]])\n",
    "\n",
    "le = LabelEncoder()\n",
    "train[CFG.letter] = le.fit_transform(train[CFG.letter])\n",
    " \n",
    "first_category = train.EJ.unique()[0]\n",
    "train.EJ = train.EJ.eq(first_category).astype('int')\n",
    "\n",
    "X_train, y_greeks = train.drop(['Class', CFG.letter], axis=1), train[CFG.letter]\n"
   ]
  },
  {
   "cell_type": "code",
   "execution_count": 6,
   "metadata": {},
   "outputs": [],
   "source": [
    "def objective(params):   \n",
    "    clf = CatboostBaggingROS(params, n_bag=CFG.n_bag, random_state=CFG.random_state, additional_params=CFG.additional_params)\n",
    "    clf.fit(X_train, y_greeks)\n",
    "    losses = clf.losses\n",
    "    \n",
    "    return np.min(losses)"
   ]
  },
  {
   "cell_type": "code",
   "execution_count": 7,
   "metadata": {},
   "outputs": [
    {
     "name": "stdout",
     "output_type": "stream",
     "text": [
      " 13%|█▎        | 4/30 [17:19<1:51:05, 256.38s/trial, best loss: 1.4628958702087402]"
     ]
    },
    {
     "name": "stderr",
     "output_type": "stream",
     "text": [
      "job exception: operands could not be broadcast together with shapes (212,8) (212,7) (212,8) \n",
      "\n"
     ]
    },
    {
     "name": "stdout",
     "output_type": "stream",
     "text": [
      " 13%|█▎        | 4/30 [18:46<2:02:03, 281.69s/trial, best loss: 1.4628958702087402]\n"
     ]
    },
    {
     "ename": "ValueError",
     "evalue": "operands could not be broadcast together with shapes (212,8) (212,7) (212,8) ",
     "output_type": "error",
     "traceback": [
      "\u001b[0;31m---------------------------------------------------------------------------\u001b[0m",
      "\u001b[0;31mValueError\u001b[0m                                Traceback (most recent call last)",
      "Cell \u001b[0;32mIn[7], line 1\u001b[0m\n\u001b[0;32m----> 1\u001b[0m best_params \u001b[39m=\u001b[39m fmin(\n\u001b[1;32m      2\u001b[0m                 fn\u001b[39m=\u001b[39;49mobjective,\n\u001b[1;32m      3\u001b[0m                 space\u001b[39m=\u001b[39;49mCFG\u001b[39m.\u001b[39;49mhyperopt_space,\n\u001b[1;32m      4\u001b[0m                 algo\u001b[39m=\u001b[39;49mCFG\u001b[39m.\u001b[39;49malgo,\n\u001b[1;32m      5\u001b[0m                 max_evals\u001b[39m=\u001b[39;49mCFG\u001b[39m.\u001b[39;49mn_step_search)    \n\u001b[1;32m      7\u001b[0m hyperparams \u001b[39m=\u001b[39m space_eval(CFG\u001b[39m.\u001b[39mhyperopt_space, best_params)\n\u001b[1;32m      8\u001b[0m \u001b[39mprint\u001b[39m(hyperparams)\n",
      "File \u001b[0;32m~/anaconda3/envs/icr3.8/lib/python3.8/site-packages/hyperopt/fmin.py:586\u001b[0m, in \u001b[0;36mfmin\u001b[0;34m(fn, space, algo, max_evals, timeout, loss_threshold, trials, rstate, allow_trials_fmin, pass_expr_memo_ctrl, catch_eval_exceptions, verbose, return_argmin, points_to_evaluate, max_queue_len, show_progressbar, early_stop_fn, trials_save_file)\u001b[0m\n\u001b[1;32m    583\u001b[0m rval\u001b[39m.\u001b[39mcatch_eval_exceptions \u001b[39m=\u001b[39m catch_eval_exceptions\n\u001b[1;32m    585\u001b[0m \u001b[39m# next line is where the fmin is actually executed\u001b[39;00m\n\u001b[0;32m--> 586\u001b[0m rval\u001b[39m.\u001b[39;49mexhaust()\n\u001b[1;32m    588\u001b[0m \u001b[39mif\u001b[39;00m return_argmin:\n\u001b[1;32m    589\u001b[0m     \u001b[39mif\u001b[39;00m \u001b[39mlen\u001b[39m(trials\u001b[39m.\u001b[39mtrials) \u001b[39m==\u001b[39m \u001b[39m0\u001b[39m:\n",
      "File \u001b[0;32m~/anaconda3/envs/icr3.8/lib/python3.8/site-packages/hyperopt/fmin.py:364\u001b[0m, in \u001b[0;36mFMinIter.exhaust\u001b[0;34m(self)\u001b[0m\n\u001b[1;32m    362\u001b[0m \u001b[39mdef\u001b[39;00m \u001b[39mexhaust\u001b[39m(\u001b[39mself\u001b[39m):\n\u001b[1;32m    363\u001b[0m     n_done \u001b[39m=\u001b[39m \u001b[39mlen\u001b[39m(\u001b[39mself\u001b[39m\u001b[39m.\u001b[39mtrials)\n\u001b[0;32m--> 364\u001b[0m     \u001b[39mself\u001b[39;49m\u001b[39m.\u001b[39;49mrun(\u001b[39mself\u001b[39;49m\u001b[39m.\u001b[39;49mmax_evals \u001b[39m-\u001b[39;49m n_done, block_until_done\u001b[39m=\u001b[39;49m\u001b[39mself\u001b[39;49m\u001b[39m.\u001b[39;49masynchronous)\n\u001b[1;32m    365\u001b[0m     \u001b[39mself\u001b[39m\u001b[39m.\u001b[39mtrials\u001b[39m.\u001b[39mrefresh()\n\u001b[1;32m    366\u001b[0m     \u001b[39mreturn\u001b[39;00m \u001b[39mself\u001b[39m\n",
      "File \u001b[0;32m~/anaconda3/envs/icr3.8/lib/python3.8/site-packages/hyperopt/fmin.py:300\u001b[0m, in \u001b[0;36mFMinIter.run\u001b[0;34m(self, N, block_until_done)\u001b[0m\n\u001b[1;32m    297\u001b[0m     time\u001b[39m.\u001b[39msleep(\u001b[39mself\u001b[39m\u001b[39m.\u001b[39mpoll_interval_secs)\n\u001b[1;32m    298\u001b[0m \u001b[39melse\u001b[39;00m:\n\u001b[1;32m    299\u001b[0m     \u001b[39m# -- loop over trials and do the jobs directly\u001b[39;00m\n\u001b[0;32m--> 300\u001b[0m     \u001b[39mself\u001b[39;49m\u001b[39m.\u001b[39;49mserial_evaluate()\n\u001b[1;32m    302\u001b[0m \u001b[39mself\u001b[39m\u001b[39m.\u001b[39mtrials\u001b[39m.\u001b[39mrefresh()\n\u001b[1;32m    303\u001b[0m \u001b[39mif\u001b[39;00m \u001b[39mself\u001b[39m\u001b[39m.\u001b[39mtrials_save_file \u001b[39m!=\u001b[39m \u001b[39m\"\u001b[39m\u001b[39m\"\u001b[39m:\n",
      "File \u001b[0;32m~/anaconda3/envs/icr3.8/lib/python3.8/site-packages/hyperopt/fmin.py:178\u001b[0m, in \u001b[0;36mFMinIter.serial_evaluate\u001b[0;34m(self, N)\u001b[0m\n\u001b[1;32m    176\u001b[0m ctrl \u001b[39m=\u001b[39m base\u001b[39m.\u001b[39mCtrl(\u001b[39mself\u001b[39m\u001b[39m.\u001b[39mtrials, current_trial\u001b[39m=\u001b[39mtrial)\n\u001b[1;32m    177\u001b[0m \u001b[39mtry\u001b[39;00m:\n\u001b[0;32m--> 178\u001b[0m     result \u001b[39m=\u001b[39m \u001b[39mself\u001b[39;49m\u001b[39m.\u001b[39;49mdomain\u001b[39m.\u001b[39;49mevaluate(spec, ctrl)\n\u001b[1;32m    179\u001b[0m \u001b[39mexcept\u001b[39;00m \u001b[39mException\u001b[39;00m \u001b[39mas\u001b[39;00m e:\n\u001b[1;32m    180\u001b[0m     logger\u001b[39m.\u001b[39merror(\u001b[39m\"\u001b[39m\u001b[39mjob exception: \u001b[39m\u001b[39m%s\u001b[39;00m\u001b[39m\"\u001b[39m \u001b[39m%\u001b[39m \u001b[39mstr\u001b[39m(e))\n",
      "File \u001b[0;32m~/anaconda3/envs/icr3.8/lib/python3.8/site-packages/hyperopt/base.py:892\u001b[0m, in \u001b[0;36mDomain.evaluate\u001b[0;34m(self, config, ctrl, attach_attachments)\u001b[0m\n\u001b[1;32m    883\u001b[0m \u001b[39melse\u001b[39;00m:\n\u001b[1;32m    884\u001b[0m     \u001b[39m# -- the \"work\" of evaluating `config` can be written\u001b[39;00m\n\u001b[1;32m    885\u001b[0m     \u001b[39m#    either into the pyll part (self.expr)\u001b[39;00m\n\u001b[1;32m    886\u001b[0m     \u001b[39m#    or the normal Python part (self.fn)\u001b[39;00m\n\u001b[1;32m    887\u001b[0m     pyll_rval \u001b[39m=\u001b[39m pyll\u001b[39m.\u001b[39mrec_eval(\n\u001b[1;32m    888\u001b[0m         \u001b[39mself\u001b[39m\u001b[39m.\u001b[39mexpr,\n\u001b[1;32m    889\u001b[0m         memo\u001b[39m=\u001b[39mmemo,\n\u001b[1;32m    890\u001b[0m         print_node_on_error\u001b[39m=\u001b[39m\u001b[39mself\u001b[39m\u001b[39m.\u001b[39mrec_eval_print_node_on_error,\n\u001b[1;32m    891\u001b[0m     )\n\u001b[0;32m--> 892\u001b[0m     rval \u001b[39m=\u001b[39m \u001b[39mself\u001b[39;49m\u001b[39m.\u001b[39;49mfn(pyll_rval)\n\u001b[1;32m    894\u001b[0m \u001b[39mif\u001b[39;00m \u001b[39misinstance\u001b[39m(rval, (\u001b[39mfloat\u001b[39m, \u001b[39mint\u001b[39m, np\u001b[39m.\u001b[39mnumber)):\n\u001b[1;32m    895\u001b[0m     dict_rval \u001b[39m=\u001b[39m {\u001b[39m\"\u001b[39m\u001b[39mloss\u001b[39m\u001b[39m\"\u001b[39m: \u001b[39mfloat\u001b[39m(rval), \u001b[39m\"\u001b[39m\u001b[39mstatus\u001b[39m\u001b[39m\"\u001b[39m: STATUS_OK}\n",
      "Cell \u001b[0;32mIn[6], line 3\u001b[0m, in \u001b[0;36mobjective\u001b[0;34m(params)\u001b[0m\n\u001b[1;32m      1\u001b[0m \u001b[39mdef\u001b[39;00m \u001b[39mobjective\u001b[39m(params):   \n\u001b[1;32m      2\u001b[0m     clf \u001b[39m=\u001b[39m CatboostBaggingROS(params, n_bag\u001b[39m=\u001b[39mCFG\u001b[39m.\u001b[39mn_bag, random_state\u001b[39m=\u001b[39mCFG\u001b[39m.\u001b[39mrandom_state, additional_params\u001b[39m=\u001b[39mCFG\u001b[39m.\u001b[39madditional_params)\n\u001b[0;32m----> 3\u001b[0m     clf\u001b[39m.\u001b[39;49mfit(X_train, y_greeks)\n\u001b[1;32m      4\u001b[0m     losses \u001b[39m=\u001b[39m clf\u001b[39m.\u001b[39mlosses\n\u001b[1;32m      6\u001b[0m     \u001b[39mreturn\u001b[39;00m np\u001b[39m.\u001b[39mmin(losses)\n",
      "Cell \u001b[0;32mIn[4], line 39\u001b[0m, in \u001b[0;36mCatboostBaggingROS.fit\u001b[0;34m(self, X_train, y_greek)\u001b[0m\n\u001b[1;32m     36\u001b[0m clf\u001b[39m.\u001b[39mfit(X_bagged, y_greek_bagged)\n\u001b[1;32m     37\u001b[0m \u001b[39mself\u001b[39m\u001b[39m.\u001b[39mclfs\u001b[39m.\u001b[39mappend(clf)\n\u001b[0;32m---> 39\u001b[0m \u001b[39mself\u001b[39m\u001b[39m.\u001b[39moob_preds[oob_idxs] \u001b[39m+\u001b[39m\u001b[39m=\u001b[39m clf\u001b[39m.\u001b[39mpredict_proba(X_oob)\n\u001b[1;32m     40\u001b[0m \u001b[39mself\u001b[39m\u001b[39m.\u001b[39moob_n[oob_idxs] \u001b[39m+\u001b[39m\u001b[39m=\u001b[39m \u001b[39m1\u001b[39m\n\u001b[1;32m     42\u001b[0m cur_loss \u001b[39m=\u001b[39m balanced_ce(y_greek, \u001b[39mself\u001b[39m\u001b[39m.\u001b[39moob_preds \u001b[39m/\u001b[39m \u001b[39mself\u001b[39m\u001b[39m.\u001b[39moob_n\u001b[39m.\u001b[39mreshape(\u001b[39m-\u001b[39m\u001b[39m1\u001b[39m, \u001b[39m1\u001b[39m))    \n",
      "\u001b[0;31mValueError\u001b[0m: operands could not be broadcast together with shapes (212,8) (212,7) (212,8) "
     ]
    }
   ],
   "source": [
    "best_params = fmin(\n",
    "                fn=objective,\n",
    "                space=CFG.hyperopt_space,\n",
    "                algo=CFG.algo,\n",
    "                max_evals=CFG.n_step_search)    \n",
    "\n",
    "hyperparams = space_eval(CFG.hyperopt_space, best_params)\n",
    "print(hyperparams)"
   ]
  },
  {
   "cell_type": "code",
   "execution_count": null,
   "metadata": {},
   "outputs": [],
   "source": []
  }
 ],
 "metadata": {
  "kernelspec": {
   "display_name": "icr3.8",
   "language": "python",
   "name": "python3"
  },
  "language_info": {
   "codemirror_mode": {
    "name": "ipython",
    "version": 3
   },
   "file_extension": ".py",
   "mimetype": "text/x-python",
   "name": "python",
   "nbconvert_exporter": "python",
   "pygments_lexer": "ipython3",
   "version": "3.8.16"
  },
  "orig_nbformat": 4
 },
 "nbformat": 4,
 "nbformat_minor": 2
}
